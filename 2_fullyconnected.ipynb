{
 "cells": [
  {
   "cell_type": "code",
   "execution_count": 1,
   "metadata": {
    "collapsed": true
   },
   "outputs": [],
   "source": [
    "# These are all the modules we'll be using later. Make sure you can import them\n",
    "# before proceeding further.\n",
    "from __future__ import print_function\n",
    "import numpy as np\n",
    "import tensorflow as tf\n",
    "from six.moves import cPickle as pickle\n",
    "from six.moves import range"
   ]
  },
  {
   "cell_type": "code",
   "execution_count": 2,
   "metadata": {
    "collapsed": false
   },
   "outputs": [
    {
     "name": "stdout",
     "output_type": "stream",
     "text": [
      "['train_labels', 'valid_labels', 'test_labels', 'test_dataset', 'train_dataset', 'valid_dataset']\n",
      "('train set', (200000, 28, 28), (200000,))\n",
      "('valid set', (10000, 28, 28), (10000,))\n",
      "('test set', (10000, 28, 28), (10000,))\n"
     ]
    }
   ],
   "source": [
    "from utils import load_pickle\n",
    "\n",
    "pickle_file = 'notMNIST.pickle'\n",
    "image_size = 28\n",
    "num_labels = 10\n",
    "\n",
    "dic = load_pickle(pickle_file)"
   ]
  },
  {
   "cell_type": "code",
   "execution_count": 20,
   "metadata": {
    "collapsed": false
   },
   "outputs": [
    {
     "name": "stdout",
     "output_type": "stream",
     "text": [
      "softmax:\n",
      "cross entropy\n",
      "notes:\n",
      "L: one-hot labels\n",
      "S: softmax\n"
     ]
    },
    {
     "data": {
      "text/latex": [
       "$D =(S,L) = - \\sum_i L_i log(S_i)$"
      ],
      "text/plain": [
       "<IPython.core.display.Latex object>"
      ]
     },
     "execution_count": 20,
     "metadata": {},
     "output_type": "execute_result"
    }
   ],
   "source": [
    "from IPython.display import Latex\n",
    "\n",
    "softmax = r\"$S(x) = \\frac{e^{x_i}}{\\sum(e^{x_i})}$\"\n",
    "print ('softmax:')\n",
    "Latex(softmax)"
   ]
  },
  {
   "cell_type": "code",
   "execution_count": 19,
   "metadata": {
    "collapsed": false
   },
   "outputs": [
    {
     "name": "stdout",
     "output_type": "stream",
     "text": [
      "cross entropy\n",
      "notes:\n",
      "L: one-hot labels\n",
      "S: softmax\n"
     ]
    },
    {
     "data": {
      "text/latex": [
       "$D =(S,L) = - \\sum_i L_i log(S_i)$"
      ],
      "text/plain": [
       "<IPython.core.display.Latex object>"
      ]
     },
     "execution_count": 19,
     "metadata": {},
     "output_type": "execute_result"
    }
   ],
   "source": [
    "print ('cross entropy')\n",
    "print ('notes:\\nL: one-hot labels\\nS: softmax')\n",
    "cross = r\"$D =(S,L) = - \\sum_i L_i log(S_i)$\"\n",
    "Latex(cross)"
   ]
  },
  {
   "cell_type": "code",
   "execution_count": 24,
   "metadata": {
    "collapsed": false
   },
   "outputs": [],
   "source": [
    "# With gradient descent training, even this much data is prohibitive.\n",
    "# Subset the training data for faster turnaround.\n",
    "train_subset = 10000\n",
    "\n",
    "graph = tf.Graph()\n",
    "with graph.as_default():\n",
    "  # Input data.\n",
    "  # Load the training, validation and test data into constants that are\n",
    "  # attached to the graph.\n",
    "  tf_train_dataset = tf.constant(dic['train_dataset'][:train_subset, :])\n",
    "  tf_train_labels = tf.constant(dic['train_labels'][:train_subset])\n",
    "  tf_valid_dataset = tf.constant(dic['valid_dataset'])\n",
    "  tf_test_dataset = tf.constant(dic['test_dataset'])\n",
    "\n",
    "  # Variables.\n",
    "  # These are the parameters that we are going to be training. The weight\n",
    "  # matrix will be initialized using random values following a (truncated)\n",
    "  # normal distribution. The biases get initialized to zero.\n",
    "  weights = tf.Variable(\n",
    "    tf.truncated_normal([image_size * image_size, num_labels]))\n",
    "  biases = tf.Variable(tf.zeros([num_labels]))\n",
    "\n",
    "  # Training computation.\n",
    "  # We multiply the inputs with the weight matrix, and add biases. We compute\n",
    "  # the softmax and cross-entropy (it's one operation in TensorFlow, because\n",
    "  # it's very common, and it can be optimized). We take the average of this\n",
    "  # cross-entropy across all training examples: that's our loss.\n",
    "  logits = tf.matmul(tf_train_dataset, weights) + biases\n",
    "  loss = tf.reduce_mean(\n",
    "    tf.nn.softmax_cross_entropy_with_logits(labels=tf_train_labels, logits=logits))\n",
    "\n",
    "  # Optimizer.\n",
    "  # We are going to find the minimum of this loss using gradient descent.\n",
    "  optimizer = tf.train.GradientDescentOptimizer(0.5).minimize(loss)\n",
    "\n",
    "  # Predictions for the training, validation, and test data.\n",
    "  # These are not part of training, but merely here so that we can report\n",
    "  # accuracy figures as we train.\n",
    "  train_prediction = tf.nn.softmax(logits)\n",
    "  valid_prediction = tf.nn.softmax(\n",
    "    tf.matmul(tf_valid_dataset, weights) + biases)\n",
    "  test_prediction = tf.nn.softmax(tf.matmul(tf_test_dataset, weights) + biases)"
   ]
  },
  {
   "cell_type": "code",
   "execution_count": 26,
   "metadata": {
    "collapsed": false
   },
   "outputs": [
    {
     "name": "stdout",
     "output_type": "stream",
     "text": [
      "Initialized\n",
      "Loss at step 0: 15.004263\n",
      "Training accuracy: 15.5%\n",
      "Validation accuracy: 17.7%\n",
      "Loss at step 100: 2.184959\n",
      "Training accuracy: 72.5%\n",
      "Validation accuracy: 71.2%\n",
      "Loss at step 200: 1.750292\n",
      "Training accuracy: 75.6%\n",
      "Validation accuracy: 73.8%\n",
      "Loss at step 300: 1.528172\n",
      "Training accuracy: 76.9%\n",
      "Validation accuracy: 74.5%\n",
      "Loss at step 400: 1.378100\n",
      "Training accuracy: 77.8%\n",
      "Validation accuracy: 74.9%\n",
      "Loss at step 500: 1.265399\n",
      "Training accuracy: 78.4%\n",
      "Validation accuracy: 75.0%\n",
      "Loss at step 600: 1.176330\n",
      "Training accuracy: 79.1%\n",
      "Validation accuracy: 75.2%\n",
      "Loss at step 700: 1.103579\n",
      "Training accuracy: 79.5%\n",
      "Validation accuracy: 75.3%\n",
      "Loss at step 800: 1.042690\n",
      "Training accuracy: 80.0%\n",
      "Validation accuracy: 75.4%\n",
      "Test accuracy: 83.1%\n"
     ]
    }
   ],
   "source": [
    "num_steps = 801\n",
    "\n",
    "\n",
    "def accuracy(predictions, labels):\n",
    "    return (100.0 * np.sum(np.argmax(predictions, 1) == np.argmax(labels, 1)) /\n",
    "            predictions.shape[0])\n",
    "\n",
    "with tf.Session(graph=graph) as session:\n",
    "    # This is a one-time operation which ensures the parameters get initialized as\n",
    "    # we described in the graph: random weights for the matrix, zeros for the\n",
    "    # biases.\n",
    "    tf.global_variables_initializer().run()\n",
    "    print('Initialized')\n",
    "    for step in range(num_steps):\n",
    "        # Run the computations. We tell .run() that we want to run the optimizer,\n",
    "        # and get the loss value and the training predictions returned as numpy\n",
    "        # arrays.\n",
    "        _, l, predictions = session.run([optimizer, loss, train_prediction])\n",
    "        if (step % 100 == 0):\n",
    "            print('Loss at step %d: %f' % (step, l))\n",
    "            for \n",
    "            print('Training accuracy: %.1f%%' %\n",
    "                  accuracy(predictions, dic['train_labels'][:train_subset, :]))\n",
    "            # Calling .eval() on valid_prediction is basically like calling run(), but\n",
    "            # just to get that one numpy array. Note that it recomputes all its graph\n",
    "            # dependencies.\n",
    "            print('Validation accuracy: %.1f%%' %\n",
    "                  accuracy(valid_prediction.eval(), dic['valid_labels']))\n",
    "    print('Test accuracy: %.1f%%' % accuracy(test_prediction.eval(),\n",
    "                                             dic['test_labels']))"
   ]
  },
  {
   "cell_type": "markdown",
   "metadata": {},
   "source": [
    "# Problem\n",
    "Turn the logistic regression example with SGD into a 1-hidden layer neural network with rectified linear units nn.relu() and 1024 hidden nodes. This model should improve your validation / test accuracy."
   ]
  },
  {
   "cell_type": "code",
   "execution_count": null,
   "metadata": {
    "collapsed": true
   },
   "outputs": [],
   "source": []
  }
 ],
 "metadata": {
  "kernelspec": {
   "display_name": "Python 2",
   "language": "python",
   "name": "python2"
  },
  "language_info": {
   "codemirror_mode": {
    "name": "ipython",
    "version": 2
   },
   "file_extension": ".py",
   "mimetype": "text/x-python",
   "name": "python",
   "nbconvert_exporter": "python",
   "pygments_lexer": "ipython2",
   "version": "2.7.13"
  }
 },
 "nbformat": 4,
 "nbformat_minor": 0
}
